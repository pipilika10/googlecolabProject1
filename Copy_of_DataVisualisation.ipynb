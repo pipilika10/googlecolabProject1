{
  "nbformat": 4,
  "nbformat_minor": 0,
  "metadata": {
    "colab": {
      "provenance": [],
      "authorship_tag": "ABX9TyPbkf+gwqf63M9NP7ZgDXUB",
      "include_colab_link": true
    },
    "kernelspec": {
      "name": "python3",
      "display_name": "Python 3"
    },
    "language_info": {
      "name": "python"
    }
  },
  "cells": [
    {
      "cell_type": "markdown",
      "metadata": {
        "id": "view-in-github",
        "colab_type": "text"
      },
      "source": [
        "<a href=\"https://colab.research.google.com/github/pipilika10/googlecolabProject1/blob/main/Copy_of_DataVisualisation.ipynb\" target=\"_parent\"><img src=\"https://colab.research.google.com/assets/colab-badge.svg\" alt=\"Open In Colab\"/></a>"
      ]
    },
    {
      "cell_type": "code",
      "execution_count": null,
      "metadata": {
        "colab": {
          "base_uri": "https://localhost:8080/"
        },
        "id": "XFt5B53Q3wj2",
        "outputId": "84d6dc16-bf2d-436f-a9f6-fe740d51275b"
      },
      "outputs": [
        {
          "output_type": "stream",
          "name": "stdout",
          "text": [
            "Average of audio_data 0.48 \t\tMaximum count of visual data objeat_2\n",
            "Sum of numeric data 75 \t\t\tAverage of numeric data 15.0\n",
            "Word count of text data 6\n"
          ]
        }
      ],
      "source": [
        "import matplotlib\n",
        "audio_data=[0.2,0.5,0.8,0.3,0.6]\n",
        "visual_data={'object_1':10,'objeat_2':20,'object_3':15}\n",
        "numeric_data=[5,10,15,20,25]\n",
        "text_data=\"This is sample txt for analysis\"\n",
        "#finding average of audio_data\n",
        "avg_audio_data=sum(audio_data)/len(audio_data)\n",
        "#finding visual data with maximum count\n",
        "max_count_visual_data=max(visual_data,key=visual_data.get)\n",
        "#finding sum and average of numeric data\n",
        "sum_numeric_data=sum(numeric_data)\n",
        "avg_numeric_data=sum(numeric_data)/len(numeric_data)\n",
        "word_count_text_data=len(text_data.split())\n",
        "print(\"Average of audio_data\",avg_audio_data,end=\" \")\n",
        "print(\"\\t\\tMaximum count of visual data\",max_count_visual_data)\n",
        "print(\"Sum of numeric data\",sum_numeric_data,end=\" \")\n",
        "print(\"\\t\\t\\tAverage of numeric data\",avg_numeric_data)\n",
        "print(\"Word count of text data\",word_count_text_data)"
      ]
    }
  ]
}